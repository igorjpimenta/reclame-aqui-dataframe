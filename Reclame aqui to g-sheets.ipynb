{
 "cells": [
  {
   "cell_type": "markdown",
   "metadata": {},
   "source": [
    "## Importar dataframes"
   ]
  },
  {
   "cell_type": "code",
   "execution_count": 1,
   "metadata": {
    "scrolled": false
   },
   "outputs": [
    {
     "data": {
      "text/html": [
       "<div>\n",
       "<style scoped>\n",
       "    .dataframe tbody tr th:only-of-type {\n",
       "        vertical-align: middle;\n",
       "    }\n",
       "\n",
       "    .dataframe tbody tr th {\n",
       "        vertical-align: top;\n",
       "    }\n",
       "\n",
       "    .dataframe thead th {\n",
       "        text-align: right;\n",
       "    }\n",
       "</style>\n",
       "<table border=\"1\" class=\"dataframe\">\n",
       "  <thead>\n",
       "    <tr style=\"text-align: right;\">\n",
       "      <th></th>\n",
       "      <th>Empresa</th>\n",
       "      <th>Id HugMe</th>\n",
       "      <th>Origem</th>\n",
       "      <th>Id Origem</th>\n",
       "      <th>Data Reclamação</th>\n",
       "      <th>Status Hugme</th>\n",
       "      <th>Status RA</th>\n",
       "      <th>Arquivado ?</th>\n",
       "      <th>Congelado?</th>\n",
       "      <th>Título</th>\n",
       "      <th>...</th>\n",
       "      <th>Moderação usuário que solicitou</th>\n",
       "      <th>Moderação data da resposta</th>\n",
       "      <th>Tipo Hugme</th>\n",
       "      <th>Data fechamento</th>\n",
       "      <th>Quantidade interações consumidor</th>\n",
       "      <th>Quantidade interações empresa</th>\n",
       "      <th>Feed tipo</th>\n",
       "      <th>Fonte informação tipo</th>\n",
       "      <th>Histórico</th>\n",
       "      <th>Canal</th>\n",
       "    </tr>\n",
       "  </thead>\n",
       "  <tbody>\n",
       "    <tr>\n",
       "      <th>0</th>\n",
       "      <td>Una</td>\n",
       "      <td>28609971</td>\n",
       "      <td>ReclameAQUI</td>\n",
       "      <td>96557163</td>\n",
       "      <td>2019-10-30 08:54:12</td>\n",
       "      <td>Novo</td>\n",
       "      <td>Não respondido</td>\n",
       "      <td>Não</td>\n",
       "      <td>Não</td>\n",
       "      <td>Falta de acesso ao U Life</td>\n",
       "      <td>...</td>\n",
       "      <td>NaN</td>\n",
       "      <td>NaT</td>\n",
       "      <td>NaN</td>\n",
       "      <td>NaT</td>\n",
       "      <td>1</td>\n",
       "      <td>0</td>\n",
       "      <td>NaN</td>\n",
       "      <td>RA Reclamação</td>\n",
       "      <td>action: INTERACAO\\ndata: 30/10/2019 08:54:54\\n...</td>\n",
       "      <td>NaN</td>\n",
       "    </tr>\n",
       "    <tr>\n",
       "      <th>1</th>\n",
       "      <td>Una</td>\n",
       "      <td>28600751</td>\n",
       "      <td>ReclameAQUI</td>\n",
       "      <td>96537423</td>\n",
       "      <td>2019-10-29 15:51:26</td>\n",
       "      <td>Respondido</td>\n",
       "      <td>Respondido</td>\n",
       "      <td>Não</td>\n",
       "      <td>Não</td>\n",
       "      <td>Renovação online de livros</td>\n",
       "      <td>...</td>\n",
       "      <td>NaN</td>\n",
       "      <td>NaT</td>\n",
       "      <td>NaN</td>\n",
       "      <td>NaT</td>\n",
       "      <td>1</td>\n",
       "      <td>1</td>\n",
       "      <td>NaN</td>\n",
       "      <td>RA Reclamação</td>\n",
       "      <td>action: INTERACAO\\ndata: 29/10/2019 15:52:58\\n...</td>\n",
       "      <td>NaN</td>\n",
       "    </tr>\n",
       "    <tr>\n",
       "      <th>2</th>\n",
       "      <td>Una</td>\n",
       "      <td>28599629</td>\n",
       "      <td>ReclameAQUI</td>\n",
       "      <td>96535013</td>\n",
       "      <td>2019-10-29 15:00:25</td>\n",
       "      <td>Novo</td>\n",
       "      <td>Não respondido</td>\n",
       "      <td>Não</td>\n",
       "      <td>Não</td>\n",
       "      <td>Não tenho acesso ao portal do aluno Ulife</td>\n",
       "      <td>...</td>\n",
       "      <td>NaN</td>\n",
       "      <td>NaT</td>\n",
       "      <td>NaN</td>\n",
       "      <td>NaT</td>\n",
       "      <td>1</td>\n",
       "      <td>0</td>\n",
       "      <td>NaN</td>\n",
       "      <td>RA Reclamação</td>\n",
       "      <td>action: INTERACAO\\ndata: 29/10/2019 15:01:00\\n...</td>\n",
       "      <td>NaN</td>\n",
       "    </tr>\n",
       "    <tr>\n",
       "      <th>3</th>\n",
       "      <td>Una</td>\n",
       "      <td>28591130</td>\n",
       "      <td>ReclameAQUI</td>\n",
       "      <td>96521363</td>\n",
       "      <td>2019-10-29 10:19:51</td>\n",
       "      <td>Respondido</td>\n",
       "      <td>Respondido</td>\n",
       "      <td>Não</td>\n",
       "      <td>Não</td>\n",
       "      <td>Portal dos alunos fora do ar</td>\n",
       "      <td>...</td>\n",
       "      <td>NaN</td>\n",
       "      <td>NaT</td>\n",
       "      <td>NaN</td>\n",
       "      <td>NaT</td>\n",
       "      <td>1</td>\n",
       "      <td>1</td>\n",
       "      <td>NaN</td>\n",
       "      <td>RA Reclamação</td>\n",
       "      <td>action: INTERACAO\\ndata: 29/10/2019 10:21:06\\n...</td>\n",
       "      <td>NaN</td>\n",
       "    </tr>\n",
       "    <tr>\n",
       "      <th>4</th>\n",
       "      <td>Una</td>\n",
       "      <td>28582802</td>\n",
       "      <td>ReclameAQUI</td>\n",
       "      <td>96503363</td>\n",
       "      <td>2019-10-28 17:58:49</td>\n",
       "      <td>Respondido</td>\n",
       "      <td>Respondido</td>\n",
       "      <td>Não</td>\n",
       "      <td>Não</td>\n",
       "      <td>Área do Aluno só vive fora do ar, prejudicando...</td>\n",
       "      <td>...</td>\n",
       "      <td>NaN</td>\n",
       "      <td>NaT</td>\n",
       "      <td>NaN</td>\n",
       "      <td>NaT</td>\n",
       "      <td>1</td>\n",
       "      <td>1</td>\n",
       "      <td>NaN</td>\n",
       "      <td>RA Reclamação</td>\n",
       "      <td>action: INTERACAO\\ndata: 28/10/2019 17:58:54\\n...</td>\n",
       "      <td>NaN</td>\n",
       "    </tr>\n",
       "  </tbody>\n",
       "</table>\n",
       "<p>5 rows × 99 columns</p>\n",
       "</div>"
      ],
      "text/plain": [
       "  Empresa  Id HugMe       Origem  Id Origem     Data Reclamação Status Hugme  \\\n",
       "0     Una  28609971  ReclameAQUI   96557163 2019-10-30 08:54:12         Novo   \n",
       "1     Una  28600751  ReclameAQUI   96537423 2019-10-29 15:51:26   Respondido   \n",
       "2     Una  28599629  ReclameAQUI   96535013 2019-10-29 15:00:25         Novo   \n",
       "3     Una  28591130  ReclameAQUI   96521363 2019-10-29 10:19:51   Respondido   \n",
       "4     Una  28582802  ReclameAQUI   96503363 2019-10-28 17:58:49   Respondido   \n",
       "\n",
       "        Status RA Arquivado ? Congelado?  \\\n",
       "0  Não respondido         Não        Não   \n",
       "1      Respondido         Não        Não   \n",
       "2  Não respondido         Não        Não   \n",
       "3      Respondido         Não        Não   \n",
       "4      Respondido         Não        Não   \n",
       "\n",
       "                                              Título  ...  \\\n",
       "0                          Falta de acesso ao U Life  ...   \n",
       "1                         Renovação online de livros  ...   \n",
       "2          Não tenho acesso ao portal do aluno Ulife  ...   \n",
       "3                       Portal dos alunos fora do ar  ...   \n",
       "4  Área do Aluno só vive fora do ar, prejudicando...  ...   \n",
       "\n",
       "  Moderação usuário que solicitou Moderação data da resposta Tipo Hugme  \\\n",
       "0                             NaN                        NaT        NaN   \n",
       "1                             NaN                        NaT        NaN   \n",
       "2                             NaN                        NaT        NaN   \n",
       "3                             NaN                        NaT        NaN   \n",
       "4                             NaN                        NaT        NaN   \n",
       "\n",
       "  Data fechamento Quantidade interações consumidor  \\\n",
       "0             NaT                                1   \n",
       "1             NaT                                1   \n",
       "2             NaT                                1   \n",
       "3             NaT                                1   \n",
       "4             NaT                                1   \n",
       "\n",
       "  Quantidade interações empresa  Feed tipo Fonte informação tipo  \\\n",
       "0                             0        NaN         RA Reclamação   \n",
       "1                             1        NaN         RA Reclamação   \n",
       "2                             0        NaN         RA Reclamação   \n",
       "3                             1        NaN         RA Reclamação   \n",
       "4                             1        NaN         RA Reclamação   \n",
       "\n",
       "                                           Histórico Canal  \n",
       "0  action: INTERACAO\\ndata: 30/10/2019 08:54:54\\n...   NaN  \n",
       "1  action: INTERACAO\\ndata: 29/10/2019 15:52:58\\n...   NaN  \n",
       "2  action: INTERACAO\\ndata: 29/10/2019 15:01:00\\n...   NaN  \n",
       "3  action: INTERACAO\\ndata: 29/10/2019 10:21:06\\n...   NaN  \n",
       "4  action: INTERACAO\\ndata: 28/10/2019 17:58:54\\n...   NaN  \n",
       "\n",
       "[5 rows x 99 columns]"
      ]
     },
     "metadata": {},
     "output_type": "display_data"
    }
   ],
   "source": [
    "import pandas as pd\n",
    "\n",
    "ies = ['Una', 'UniBH', 'Unisociesc', 'USJT', 'Ânima']\n",
    "\n",
    "list = []\n",
    "\n",
    "for ies in ies:\n",
    "    base = pd.read_excel('Downloads/RA %s.xlsx' % ies, skiprows = 3).iloc[:, :-1]\n",
    "    column = ['Empresa']\n",
    "    [column.append(col) for col in base.columns.tolist()]\n",
    "    base['Empresa'] = [ies for i in range(len(base))]\n",
    "    base = base[column]\n",
    "    list.append(base)\n",
    "    \n",
    "base = pd.concat(list)\n",
    "display(base.head(5).sort_index())"
   ]
  },
  {
   "cell_type": "code",
   "execution_count": 11,
   "metadata": {},
   "outputs": [
    {
     "data": {
      "text/plain": [
       "['Data Reclamação',\n",
       " 'Data Avaliacao',\n",
       " 'Data de Resposta',\n",
       " 'Data Consideração Consumidor',\n",
       " 'Data Consideração Empresa',\n",
       " 'Data última réplica',\n",
       " 'Data da última modificação',\n",
       " 'Data de Desativação RA',\n",
       " 'Moderação data de solicitação',\n",
       " 'Moderação data da resposta',\n",
       " 'Data fechamento']"
      ]
     },
     "execution_count": 11,
     "metadata": {},
     "output_type": "execute_result"
    }
   ],
   "source": [
    "[column for column in base.columns.tolist() if 'data' in column or 'Data' in column]"
   ]
  },
  {
   "cell_type": "markdown",
   "metadata": {},
   "source": [
    "## Criar dataframe de indicadores"
   ]
  },
  {
   "cell_type": "code",
   "execution_count": 2,
   "metadata": {},
   "outputs": [
    {
     "name": "stderr",
     "output_type": "stream",
     "text": [
      "/Users/igorjuliopimenta/anaconda3/lib/python3.7/site-packages/ipykernel_launcher.py:5: FutureWarning: Comparing Series of datetimes with 'datetime.date'.  Currently, the\n",
      "'datetime.date' is coerced to a datetime. In the future pandas will\n",
      "not coerce, and a TypeError will be raised. To retain the current\n",
      "behavior, convert the 'datetime.date' to a datetime with\n",
      "'pd.Timestamp'.\n",
      "  \"\"\"\n"
     ]
    },
    {
     "data": {
      "text/html": [
       "<div>\n",
       "<style scoped>\n",
       "    .dataframe tbody tr th:only-of-type {\n",
       "        vertical-align: middle;\n",
       "    }\n",
       "\n",
       "    .dataframe tbody tr th {\n",
       "        vertical-align: top;\n",
       "    }\n",
       "\n",
       "    .dataframe thead th {\n",
       "        text-align: right;\n",
       "    }\n",
       "</style>\n",
       "<table border=\"1\" class=\"dataframe\">\n",
       "  <thead>\n",
       "    <tr style=\"text-align: right;\">\n",
       "      <th></th>\n",
       "      <th>Empresa</th>\n",
       "      <th>Data Reclamação</th>\n",
       "      <th>Nota</th>\n",
       "      <th>Índice de Solução</th>\n",
       "      <th>Voltaria a fazer negócio</th>\n",
       "      <th>Avaliação Reclame Aqui</th>\n",
       "    </tr>\n",
       "  </thead>\n",
       "  <tbody>\n",
       "    <tr>\n",
       "      <th>0</th>\n",
       "      <td>USJT</td>\n",
       "      <td>2019-10-30</td>\n",
       "      <td>5.410</td>\n",
       "      <td>0.786</td>\n",
       "      <td>0.556</td>\n",
       "      <td>7.093</td>\n",
       "    </tr>\n",
       "    <tr>\n",
       "      <th>1</th>\n",
       "      <td>USJT</td>\n",
       "      <td>2019-10-29</td>\n",
       "      <td>5.364</td>\n",
       "      <td>0.780</td>\n",
       "      <td>0.551</td>\n",
       "      <td>7.050</td>\n",
       "    </tr>\n",
       "    <tr>\n",
       "      <th>2</th>\n",
       "      <td>USJT</td>\n",
       "      <td>2019-10-28</td>\n",
       "      <td>5.370</td>\n",
       "      <td>0.782</td>\n",
       "      <td>0.546</td>\n",
       "      <td>7.048</td>\n",
       "    </tr>\n",
       "    <tr>\n",
       "      <th>3</th>\n",
       "      <td>USJT</td>\n",
       "      <td>2019-10-27</td>\n",
       "      <td>5.370</td>\n",
       "      <td>0.782</td>\n",
       "      <td>0.546</td>\n",
       "      <td>7.048</td>\n",
       "    </tr>\n",
       "    <tr>\n",
       "      <th>4</th>\n",
       "      <td>USJT</td>\n",
       "      <td>2019-10-26</td>\n",
       "      <td>5.370</td>\n",
       "      <td>0.782</td>\n",
       "      <td>0.546</td>\n",
       "      <td>7.048</td>\n",
       "    </tr>\n",
       "  </tbody>\n",
       "</table>\n",
       "</div>"
      ],
      "text/plain": [
       "  Empresa Data Reclamação   Nota  Índice de Solução  Voltaria a fazer negócio  \\\n",
       "0    USJT      2019-10-30  5.410              0.786                     0.556   \n",
       "1    USJT      2019-10-29  5.364              0.780                     0.551   \n",
       "2    USJT      2019-10-28  5.370              0.782                     0.546   \n",
       "3    USJT      2019-10-27  5.370              0.782                     0.546   \n",
       "4    USJT      2019-10-26  5.370              0.782                     0.546   \n",
       "\n",
       "   Avaliação Reclame Aqui  \n",
       "0                   7.093  \n",
       "1                   7.050  \n",
       "2                   7.048  \n",
       "3                   7.048  \n",
       "4                   7.048  "
      ]
     },
     "metadata": {},
     "output_type": "display_data"
    }
   ],
   "source": [
    "from datetime import timedelta\n",
    "import numpy as np\n",
    "\n",
    "columns = ['Empresa', 'Id HugMe', 'Data Reclamação', 'Status RA', 'Voltaria a fazer negócio?', 'Nota']\n",
    "data = lambda d: base[(base['Data Reclamação'] > (d - timedelta(days = 180))) & (base['Data Reclamação'] <= d)][columns]\n",
    "# date = np.unique([date.date() for date in base[base['Data Reclamação'] >= (base['Data Reclamação'].sort_values().tolist()[0] + timedelta(days = 180))]['Data Reclamação'].tolist()])\n",
    "date = [base['Data Reclamação'].max().date() - timedelta(days = i) for i in range((base['Data Reclamação'].max().date() - base['Data Reclamação'].min().date() - timedelta(days = 180)).days)]\n",
    "\n",
    "nota = lambda data_d: data_d['Nota'].tolist()\n",
    "\n",
    "ava_res = lambda row: 1 if row == 'Avaliado Resolvido' else (0 if row == 'Avaliado Não Resolvido' else np.nan)\n",
    "ind_sol = lambda data_d: [ava_res(row) for row in data_d['Status RA']]\n",
    "\n",
    "vol_neg = lambda row: 1 if row == 'Sim' else (0 if row == 'Não' else np.nan)\n",
    "neg_nov = lambda data_d: [vol_neg(row) for row in data_d['Voltaria a fazer negócio?']]\n",
    "\n",
    "ava_ra = lambda data_d: 1 * 2 + np.nanmean(nota(data_d)) / 10 * 3 + np.nanmean(ind_sol(data_d)) * 3 + np.nanmean(neg_nov(data_d)) * 2\n",
    "\n",
    "df_ind = pd.DataFrame([[empresa, d, round(np.nanmean(nota(data(d)[data(d)['Empresa'] == empresa])), 3), round(np.nanmean(ind_sol(data(d)[data(d)['Empresa'] == empresa])), 3), round(np.nanmean(neg_nov(data(d)[data(d)['Empresa'] == empresa])), 3), round(ava_ra(data(d)[data(d)['Empresa'] == empresa]), 3)] for empresa in np.unique(base.Empresa) for d in date], columns = ['Empresa', 'Data Reclamação', 'Nota', 'Índice de Solução', 'Voltaria a fazer negócio', 'Avaliação Reclame Aqui'])\n",
    "\n",
    "display(df_ind.head(5))"
   ]
  },
  {
   "cell_type": "markdown",
   "metadata": {},
   "source": [
    "## Criar dataframe de tags"
   ]
  },
  {
   "cell_type": "code",
   "execution_count": 3,
   "metadata": {
    "scrolled": true
   },
   "outputs": [
    {
     "data": {
      "text/html": [
       "<div>\n",
       "<style scoped>\n",
       "    .dataframe tbody tr th:only-of-type {\n",
       "        vertical-align: middle;\n",
       "    }\n",
       "\n",
       "    .dataframe tbody tr th {\n",
       "        vertical-align: top;\n",
       "    }\n",
       "\n",
       "    .dataframe thead th {\n",
       "        text-align: right;\n",
       "    }\n",
       "</style>\n",
       "<table border=\"1\" class=\"dataframe\">\n",
       "  <thead>\n",
       "    <tr style=\"text-align: right;\">\n",
       "      <th></th>\n",
       "      <th>Id HugMe</th>\n",
       "      <th>Data Reclamação</th>\n",
       "      <th>Empresa</th>\n",
       "      <th>Tag</th>\n",
       "    </tr>\n",
       "  </thead>\n",
       "  <tbody>\n",
       "    <tr>\n",
       "      <th>0</th>\n",
       "      <td>28570673</td>\n",
       "      <td>2019-10-28 08:36:55</td>\n",
       "      <td>Una</td>\n",
       "      <td>Fies</td>\n",
       "    </tr>\n",
       "    <tr>\n",
       "      <th>1</th>\n",
       "      <td>28570673</td>\n",
       "      <td>2019-10-28 08:36:55</td>\n",
       "      <td>Una</td>\n",
       "      <td>Aditamento</td>\n",
       "    </tr>\n",
       "    <tr>\n",
       "      <th>2</th>\n",
       "      <td>28555389</td>\n",
       "      <td>2019-10-26 08:08:36</td>\n",
       "      <td>Una</td>\n",
       "      <td>Boleto</td>\n",
       "    </tr>\n",
       "    <tr>\n",
       "      <th>3</th>\n",
       "      <td>28555389</td>\n",
       "      <td>2019-10-26 08:08:36</td>\n",
       "      <td>Una</td>\n",
       "      <td>Revisão de boleto</td>\n",
       "    </tr>\n",
       "    <tr>\n",
       "      <th>4</th>\n",
       "      <td>28520538</td>\n",
       "      <td>2019-10-24 11:09:33</td>\n",
       "      <td>Una</td>\n",
       "      <td>Acordo</td>\n",
       "    </tr>\n",
       "  </tbody>\n",
       "</table>\n",
       "</div>"
      ],
      "text/plain": [
       "   Id HugMe     Data Reclamação Empresa                Tag\n",
       "0  28570673 2019-10-28 08:36:55     Una               Fies\n",
       "1  28570673 2019-10-28 08:36:55     Una         Aditamento\n",
       "2  28555389 2019-10-26 08:08:36     Una             Boleto\n",
       "3  28555389 2019-10-26 08:08:36     Una  Revisão de boleto\n",
       "4  28520538 2019-10-24 11:09:33     Una             Acordo"
      ]
     },
     "metadata": {},
     "output_type": "display_data"
    }
   ],
   "source": [
    "import numpy as np\n",
    "\n",
    "df_tags = pd.DataFrame([[id, base[base['Id HugMe'] == id]['Data Reclamação'].tolist()[0], ies, item] for id in base['Id HugMe'] for ies in np.unique(base.Empresa) for row in [tag.split(' ; ') for index, tag in base[(base.Empresa == ies) & (base['Id HugMe'] == id)].Tags.items() if type(tag) == str] for item in row], columns = ['Id HugMe', 'Data Reclamação', 'Empresa', 'Tag'])\n",
    "\n",
    "display(df_tags.head(5))"
   ]
  },
  {
   "cell_type": "markdown",
   "metadata": {},
   "source": [
    "## Plotar word cloud\n",
    "\n"
   ]
  },
  {
   "cell_type": "code",
   "execution_count": 4,
   "metadata": {},
   "outputs": [
    {
     "data": {
      "image/png": "[encoded data removed]",
      "text/plain": [
       "<Figure size 432x288 with 1 Axes>"
      ]
     },
     "metadata": {
      "needs_background": "light"
     },
     "output_type": "display_data"
    }
   ],
   "source": [
    "import matplotlib.pyplot as plt\n",
    "from matplotlib.colors import ListedColormap\n",
    "from wordcloud import WordCloud\n",
    "\n",
    "mapa_cores = ListedColormap(['orange', 'green', 'red', 'magenta'])\n",
    "\n",
    "wordcloud = WordCloud(background_color = 'white',\n",
    "                      colormap = mapa_cores,\n",
    "                      max_words = 100)\n",
    "\n",
    "wordcloud.generate(' '.join(df_tags.Tag.tolist()))\n",
    "%matplotlib inline\n",
    "plt.imshow(wordcloud)\n",
    "plt.axis('off')\n",
    "plt.show()"
   ]
  },
  {
   "cell_type": "markdown",
   "metadata": {},
   "source": [
    "## Instalar pacote"
   ]
  },
  {
   "cell_type": "code",
   "execution_count": 5,
   "metadata": {},
   "outputs": [
    {
     "name": "stdout",
     "output_type": "stream",
     "text": [
      "Requirement already satisfied: gspread_dataframe in ./anaconda3/lib/python3.7/site-packages (3.0.3)\n",
      "Requirement already satisfied: pandas>=0.14.0 in ./anaconda3/lib/python3.7/site-packages (from gspread_dataframe) (0.24.2)\n",
      "Requirement already satisfied: gspread>=3.0.0 in ./anaconda3/lib/python3.7/site-packages (from gspread_dataframe) (3.1.0)\n",
      "Requirement already satisfied: pytz>=2011k in ./anaconda3/lib/python3.7/site-packages (from pandas>=0.14.0->gspread_dataframe) (2018.9)\n",
      "Requirement already satisfied: numpy>=1.12.0 in ./anaconda3/lib/python3.7/site-packages (from pandas>=0.14.0->gspread_dataframe) (1.17.3)\n",
      "Requirement already satisfied: python-dateutil>=2.5.0 in ./anaconda3/lib/python3.7/site-packages (from pandas>=0.14.0->gspread_dataframe) (2.8.0)\n",
      "Requirement already satisfied: requests>=2.2.1 in ./anaconda3/lib/python3.7/site-packages (from gspread>=3.0.0->gspread_dataframe) (2.21.0)\n",
      "Requirement already satisfied: six>=1.5 in ./anaconda3/lib/python3.7/site-packages (from python-dateutil>=2.5.0->pandas>=0.14.0->gspread_dataframe) (1.12.0)\n",
      "Requirement already satisfied: chardet<3.1.0,>=3.0.2 in ./anaconda3/lib/python3.7/site-packages (from requests>=2.2.1->gspread>=3.0.0->gspread_dataframe) (3.0.4)\n",
      "Requirement already satisfied: certifi>=2017.4.17 in ./anaconda3/lib/python3.7/site-packages (from requests>=2.2.1->gspread>=3.0.0->gspread_dataframe) (2019.3.9)\n",
      "Requirement already satisfied: idna<2.9,>=2.5 in ./anaconda3/lib/python3.7/site-packages (from requests>=2.2.1->gspread>=3.0.0->gspread_dataframe) (2.8)\n",
      "Requirement already satisfied: urllib3<1.25,>=1.21.1 in ./anaconda3/lib/python3.7/site-packages (from requests>=2.2.1->gspread>=3.0.0->gspread_dataframe) (1.24.1)\n"
     ]
    }
   ],
   "source": [
    "! pip install gspread_dataframe"
   ]
  },
  {
   "cell_type": "markdown",
   "metadata": {},
   "source": [
    "## Configurar spreadsheet"
   ]
  },
  {
   "cell_type": "code",
   "execution_count": 6,
   "metadata": {},
   "outputs": [],
   "source": [
    "import gspread_dataframe as gd\n",
    "from oauth2client.service_account import ServiceAccountCredentials\n",
    "import gspread\n",
    "\n",
    "scope = ['https://spreadsheets.google.com/feeds',\n",
    "         'https://www.googleapis.com/auth/drive']\n",
    "credentials = ServiceAccountCredentials.from_json_keyfile_name('Documents/BLiP to G-Sheets.json', scope)\n",
    "gc = gspread.authorize(credentials)"
   ]
  },
  {
   "cell_type": "markdown",
   "metadata": {},
   "source": [
    "## Abrir spreadsheet"
   ]
  },
  {
   "cell_type": "code",
   "execution_count": 7,
   "metadata": {},
   "outputs": [],
   "source": [
    "ws = gc.open_by_key('1BtFgYqVlgy5mDRpdyi62J0D4CfFBgsbOAnQUDspflSE')"
   ]
  },
  {
   "cell_type": "markdown",
   "metadata": {},
   "source": [
    "## Limpar worksheet"
   ]
  },
  {
   "cell_type": "code",
   "execution_count": 8,
   "metadata": {},
   "outputs": [
    {
     "data": {
      "text/plain": [
       "{'spreadsheetId': '1BtFgYqVlgy5mDRpdyi62J0D4CfFBgsbOAnQUDspflSE',\n",
       " 'replies': [{}]}"
      ]
     },
     "execution_count": 8,
     "metadata": {},
     "output_type": "execute_result"
    }
   ],
   "source": [
    "ws.worksheet('Sheet1').resize(rows = 1)\n",
    "ws.worksheet('Sheet2').resize(rows = 1)\n",
    "ws.worksheet('Sheet3').resize(rows = 1)"
   ]
  },
  {
   "cell_type": "markdown",
   "metadata": {},
   "source": [
    "## Alimentar worksheet"
   ]
  },
  {
   "cell_type": "code",
   "execution_count": 9,
   "metadata": {},
   "outputs": [],
   "source": [
    "gd.set_with_dataframe(ws.worksheet('Sheet1'), base)\n",
    "gd.set_with_dataframe(ws.worksheet('Sheet2'), df_tags)\n",
    "gd.set_with_dataframe(ws.worksheet('Sheet3'), df_ind)"
   ]
  }
 ],
 "metadata": {
  "kernelspec": {
   "display_name": "Python 3",
   "language": "python",
   "name": "python3"
  },
  "language_info": {
   "codemirror_mode": {
    "name": "ipython",
    "version": 3
   },
   "file_extension": ".py",
   "mimetype": "text/x-python",
   "name": "python",
   "nbconvert_exporter": "python",
   "pygments_lexer": "ipython3",
   "version": "3.7.3"
  }
 },
 "nbformat": 4,
 "nbformat_minor": 2
}
